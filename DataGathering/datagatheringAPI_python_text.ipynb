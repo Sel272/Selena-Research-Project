{
  "cells": [
    {
      "cell_type": "code",
      "execution_count": 27,
      "metadata": {},
      "outputs": [],
      "source": [
        "# Import\n",
        "import requests\n",
        "import json\n",
        "import re\n",
        "import pandas as pd\n",
        "from sklearn.feature_extraction.text import CountVectorizer"
      ]
    },
    {
      "cell_type": "code",
      "execution_count": 28,
      "metadata": {},
      "outputs": [],
      "source": [
        "#Set credentials \n",
        "baseURL = \"https://newsapi.org/v2/everything?\"\n",
        "total_requests=2\n",
        "verbose=True\n",
        "\n",
        "# THIS CODE WILL NOT WORK UNLESS YOU INSERT YOUR API KEY IN THE NEXT LINE\n",
        "API_KEY='9cf6d393469e41738d84303a9c840fd1'\n"
      ]
    },
    {
      "cell_type": "code",
      "execution_count": 29,
      "metadata": {},
      "outputs": [],
      "source": [
        "TOPICS = ['Cardiovascular', 'Cancer','Stroke','Diabetes']"
      ]
    },
    {
      "cell_type": "code",
      "execution_count": 30,
      "metadata": {},
      "outputs": [],
      "source": [
        "def extract (x):\n",
        "\n",
        "    URLpost = {'apiKey': API_KEY,\n",
        "                'q': '+'+ TOPICS[x],\n",
        "                'sortBy': 'relevancy',\n",
        "                'totalRequests': 1}\n",
        "\n",
        "    # print(baseURL)\n",
        "    # print(URLpost)\n",
        "\n",
        "    #GET DATA FROM API\n",
        "    response = requests.get(baseURL, URLpost) #request data from the server\n",
        "    # print(response.url);  \n",
        "    response = response.json() #extract txt data from request into json\n",
        "\n",
        "    # PRETTY PRINT\n",
        "    # https://www.digitalocean.com/community/tutorials/python-pretty-print-json\n",
        "\n",
        "    # print(json.dumps(response, indent=2))\n",
        "\n",
        "    # #GET TIMESTAMP FOR PULL REQUEST\n",
        "    from datetime import datetime\n",
        "    timestamp = datetime.now().strftime(\"%Y-%m-%d-H%H-M%M-S%S\")\n",
        "\n",
        "    # SAVE TO FILE \n",
        "    with open(timestamp+'-newapi-raw-data.json', 'w') as outfile:\n",
        "        json.dump(response, outfile, indent=4)\n",
        "        \n",
        "    return response\n",
        "\n"
      ]
    },
    {
      "cell_type": "code",
      "execution_count": 31,
      "metadata": {},
      "outputs": [],
      "source": [
        "response1 = extract(0)\n",
        "response2 = extract(1)\n",
        "response3 = extract(2)\n",
        "response4 = extract(3)"
      ]
    },
    {
      "cell_type": "code",
      "execution_count": 32,
      "metadata": {},
      "outputs": [],
      "source": [
        "# Utility function\n",
        "# Function to clean strings\n",
        "def string_cleaner(input_string):\n",
        "    try: \n",
        "        out=re.sub(r\"\"\"\n",
        "                    [,.;@#?!&$-]+  # Accept one or more copies of punctuation\n",
        "                    \\ *           # plus zero or more copies of a space,\n",
        "                    \"\"\",\n",
        "                    \" \",          # and replace it with a single space\n",
        "                    input_string, flags=re.VERBOSE)\n",
        "\n",
        "        #REPLACE SELECT CHARACTERS WITH NOTHING\n",
        "        out = re.sub('[’.]+', '', input_string)\n",
        "\n",
        "        #ELIMINATE DUPLICATE WHITESPACES USING WILDCARDS\n",
        "        out = re.sub(r'\\s+', ' ', out)\n",
        "\n",
        "        #CONVERT TO LOWER CASE\n",
        "        out=out.lower()\n",
        "    except:\n",
        "        print(\"ERROR\")\n",
        "        out=''\n",
        "    return out"
      ]
    },
    {
      "cell_type": "code",
      "execution_count": 33,
      "metadata": {},
      "outputs": [],
      "source": [
        "def clean (response):\n",
        "    article_list=response['articles']   #list of dictionaries for each article\n",
        "    article_keys=article_list[0].keys()\n",
        "    # print(\"AVAILABLE KEYS:\")\n",
        "    # print(article_keys)\n",
        "    index=0\n",
        "    cleaned_data=[];  \n",
        "    for article in article_list:\n",
        "        tmp=[]\n",
        "        # if(verbose):\n",
        "        #     print(\"#------------------------------------------\")\n",
        "        #     print(\"#\",index)\n",
        "        #     print(\"#------------------------------------------\")\n",
        "\n",
        "        for key in article_keys:\n",
        "            # if(verbose):\n",
        "            #     print(\"----------------\")\n",
        "            #     print(key)\n",
        "            #     print(article[key])\n",
        "            #     print(\"----------------\")\n",
        "\n",
        "            # if(key=='source'):\n",
        "            #     src=string_cleaner(article[key]['name'])\n",
        "            #     tmp.append(src) \n",
        "\n",
        "            # if(key=='author'):\n",
        "            #     author=string_cleaner(article[key])\n",
        "            #     #ERROR CHECK (SOMETIMES AUTHOR IS SAME AS PUBLICATION)\n",
        "            #     if(src in author): \n",
        "            #         print(\" AUTHOR ERROR:\",author);author='NA'\n",
        "            #     tmp.append(author)\n",
        "\n",
        "            # if(key=='title'):\n",
        "            #     tmp.append(string_cleaner(article[key]))\n",
        "                \n",
        "            if(key=='description'):\n",
        "                tmp.append(string_cleaner(article[key]))\n",
        "\n",
        "            # if(key=='content'):\n",
        "            #     tmp.append(string_cleaner(article[key]))\n",
        "\n",
        "            # if(key=='publishedAt'):\n",
        "            #     #DEFINE DATA PATERN FOR RE TO CHECK  .* --> wildcard\n",
        "            #     ref = re.compile('.*-.*-.*T.*:.*:.*Z')\n",
        "            #     date=article[key]\n",
        "            #     if(not ref.match(date)):\n",
        "            #         print(\" DATE ERROR:\",date); date=\"NA\"\n",
        "            #     tmp.append(date)\n",
        "\n",
        "        cleaned_data.append(tmp)\n",
        "        index+=1\n",
        "\n",
        "    return cleaned_data"
      ]
    },
    {
      "cell_type": "code",
      "execution_count": 34,
      "metadata": {},
      "outputs": [],
      "source": [
        "# Create DataFrame\n",
        "cleaned_data1 = clean(response1)\n",
        "df1 = pd.DataFrame(cleaned_data1)\n",
        "cleaned_data2 = clean(response2)\n",
        "df2 = pd.DataFrame(cleaned_data2)\n",
        "cleaned_data3 = clean(response3)\n",
        "df3 = pd.DataFrame(cleaned_data3)\n",
        "cleaned_data4 = clean(response4)\n",
        "df4 = pd.DataFrame(cleaned_data4)\n",
        "df1['label'] = 1\n",
        "df2['label'] = 0\n",
        "df3['label'] = 0\n",
        "df4['label'] = 0\n",
        "\n"
      ]
    },
    {
      "cell_type": "code",
      "execution_count": 35,
      "metadata": {},
      "outputs": [
        {
          "data": {
            "text/html": [
              "<div>\n",
              "<style scoped>\n",
              "    .dataframe tbody tr th:only-of-type {\n",
              "        vertical-align: middle;\n",
              "    }\n",
              "\n",
              "    .dataframe tbody tr th {\n",
              "        vertical-align: top;\n",
              "    }\n",
              "\n",
              "    .dataframe thead th {\n",
              "        text-align: right;\n",
              "    }\n",
              "</style>\n",
              "<table border=\"1\" class=\"dataframe\">\n",
              "  <thead>\n",
              "    <tr style=\"text-align: right;\">\n",
              "      <th></th>\n",
              "      <th>text</th>\n",
              "      <th>label</th>\n",
              "    </tr>\n",
              "  </thead>\n",
              "  <tbody>\n",
              "    <tr>\n",
              "      <th>0</th>\n",
              "      <td>researchers increasingly find that the effects...</td>\n",
              "      <td>1</td>\n",
              "    </tr>\n",
              "    <tr>\n",
              "      <th>1</th>\n",
              "      <td>together, ai imaging and ai genetic analysis m...</td>\n",
              "      <td>1</td>\n",
              "    </tr>\n",
              "    <tr>\n",
              "      <th>2</th>\n",
              "      <td>las enfermedades relacionadas con nuestro sist...</td>\n",
              "      <td>1</td>\n",
              "    </tr>\n",
              "    <tr>\n",
              "      <th>3</th>\n",
              "      <td>a monthly dose of the vitamin was found to low...</td>\n",
              "      <td>1</td>\n",
              "    </tr>\n",
              "    <tr>\n",
              "      <th>4</th>\n",
              "      <td>author cat bohannon says there's a \"male norm\"...</td>\n",
              "      <td>1</td>\n",
              "    </tr>\n",
              "  </tbody>\n",
              "</table>\n",
              "</div>"
            ],
            "text/plain": [
              "                                                text  label\n",
              "0  researchers increasingly find that the effects...      1\n",
              "1  together, ai imaging and ai genetic analysis m...      1\n",
              "2  las enfermedades relacionadas con nuestro sist...      1\n",
              "3  a monthly dose of the vitamin was found to low...      1\n",
              "4  author cat bohannon says there's a \"male norm\"...      1"
            ]
          },
          "execution_count": 35,
          "metadata": {},
          "output_type": "execute_result"
        }
      ],
      "source": [
        "cardiovascular_text = pd.concat([df1, df2, df3, df4])\n",
        "cardiovascular_text = cardiovascular_text.rename(columns={0: 'text'})\n",
        "cardiovascular_text.head()\n"
      ]
    },
    {
      "cell_type": "code",
      "execution_count": 36,
      "metadata": {},
      "outputs": [
        {
          "data": {
            "text/plain": [
              "(400, 2)"
            ]
          },
          "execution_count": 36,
          "metadata": {},
          "output_type": "execute_result"
        }
      ],
      "source": [
        "cardiovascular_text.shape"
      ]
    },
    {
      "cell_type": "code",
      "execution_count": 37,
      "metadata": {},
      "outputs": [],
      "source": [
        "cardiovascular_text.to_csv('../data/01-modified-data/cardiovascular_text_final.csv')"
      ]
    }
  ],
  "metadata": {
    "kernelspec": {
      "display_name": "Python 3 (ipykernel)",
      "language": "python",
      "name": "python3"
    },
    "language_info": {
      "codemirror_mode": {
        "name": "ipython",
        "version": 3
      },
      "file_extension": ".py",
      "mimetype": "text/x-python",
      "name": "python",
      "nbconvert_exporter": "python",
      "pygments_lexer": "ipython3",
      "version": "3.9.6"
    }
  },
  "nbformat": 4,
  "nbformat_minor": 4
}
