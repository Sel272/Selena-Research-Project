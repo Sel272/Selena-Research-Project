{
 "cells": [
  {
   "cell_type": "code",
   "execution_count": 1,
   "metadata": {},
   "outputs": [],
   "source": [
    "import pandas as pd\n",
    "import numpy as np"
   ]
  },
  {
   "cell_type": "code",
   "execution_count": 2,
   "metadata": {},
   "outputs": [],
   "source": [
    "df = pd.read_csv(\"../../data/00-raw-data/cardiorisk.csv\")"
   ]
  },
  {
   "cell_type": "code",
   "execution_count": 9,
   "metadata": {},
   "outputs": [],
   "source": [
    "df1 = df.rename(columns={'0': 'title', '1': 'description'})\n",
    "df2 = df1[['title', 'description']]\n"
   ]
  },
  {
   "cell_type": "code",
   "execution_count": 19,
   "metadata": {},
   "outputs": [],
   "source": [
    "from sklearn.feature_extraction.text import CountVectorizer\n",
    "# Vectorize the texts using CountVectorizer\n",
    "vectorizer = CountVectorizer()\n",
    "X_title= vectorizer.fit_transform(df2['title'])\n",
    "\n",
    "# Calculate word frequencies\n",
    "word_frequencies_title = X_title.sum(axis=0)\n",
    "word_frequencies_title = np.array(word_frequencies_title).flatten()\n",
    "\n",
    "# Create a mapping of words to their frequencies\n",
    "word_to_frequency_title = dict(zip(vectorizer.get_feature_names_out(), word_frequencies_title))\n",
    "\n",
    "X_des= vectorizer.fit_transform(df2['description'])\n",
    "\n",
    "# Calculate word frequencies\n",
    "word_frequencies_des = X_des.sum(axis=0)\n",
    "word_frequencies_des = np.array(word_frequencies_des).flatten()\n",
    "\n",
    "# Create a mapping of words to their frequencies\n",
    "word_frequencies_des = dict(zip(vectorizer.get_feature_names_out(), word_frequencies_des))\n",
    "\n",
    "\n"
   ]
  },
  {
   "cell_type": "code",
   "execution_count": 20,
   "metadata": {},
   "outputs": [],
   "source": [
    "word_to_frequency_title_fil = {k: v for k, v in word_to_frequency_title.items() if v > 8}\n",
    "word_frequencies_des_fil = {k: v for k, v in word_frequencies_des.items() if v > 8}\n",
    "word_to_frequency_title_final = dict(sorted(word_to_frequency_title_fil.items(),  key=lambda item: item[1],reverse=True))\n",
    "word_to_frequency_des_final = dict(sorted(word_frequencies_des_fil.items(),  key=lambda item: item[1],reverse=True))"
   ]
  },
  {
   "cell_type": "code",
   "execution_count": 21,
   "metadata": {},
   "outputs": [
    {
     "data": {
      "text/plain": [
       "{'to': 26,\n",
       " 'and': 22,\n",
       " 'of': 21,\n",
       " 'for': 18,\n",
       " 'the': 17,\n",
       " 'in': 16,\n",
       " 'study': 12,\n",
       " 'heart': 10,\n",
       " 'is': 10,\n",
       " 'cardiovascular': 9,\n",
       " 'health': 9,\n",
       " 'risk': 9}"
      ]
     },
     "execution_count": 21,
     "metadata": {},
     "output_type": "execute_result"
    }
   ],
   "source": [
    "word_to_frequency_title_final"
   ]
  },
  {
   "cell_type": "code",
   "execution_count": 22,
   "metadata": {},
   "outputs": [
    {
     "data": {
      "text/plain": [
       "{'the': 78,\n",
       " 'of': 65,\n",
       " 'and': 62,\n",
       " 'to': 48,\n",
       " 'in': 38,\n",
       " 'for': 26,\n",
       " 'that': 26,\n",
       " 'health': 23,\n",
       " 'with': 23,\n",
       " 'is': 22,\n",
       " 'are': 21,\n",
       " 'heart': 18,\n",
       " 'new': 18,\n",
       " 'risk': 17,\n",
       " 'as': 16,\n",
       " 'can': 16,\n",
       " 'be': 15,\n",
       " 'have': 15,\n",
       " 'but': 14,\n",
       " 'de': 14,\n",
       " 'on': 14,\n",
       " 'you': 14,\n",
       " 'more': 13,\n",
       " 'this': 13,\n",
       " 'has': 12,\n",
       " 'study': 12,\n",
       " 'by': 11,\n",
       " 'disease': 11,\n",
       " 'high': 11,\n",
       " 'it': 11,\n",
       " 'been': 10,\n",
       " 'cardiovascular': 10,\n",
       " 'from': 10,\n",
       " 'que': 10,\n",
       " 'weight': 10,\n",
       " 'your': 10,\n",
       " 'at': 9,\n",
       " 'la': 9,\n",
       " 'than': 9,\n",
       " 'these': 9,\n",
       " 'was': 9,\n",
       " 'who': 9}"
      ]
     },
     "execution_count": 22,
     "metadata": {},
     "output_type": "execute_result"
    }
   ],
   "source": [
    "word_to_frequency_des_final"
   ]
  },
  {
   "cell_type": "code",
   "execution_count": 23,
   "metadata": {},
   "outputs": [],
   "source": [
    "df2.to_csv('../../data/01-modified-data/cardioriskapi.csv')"
   ]
  }
 ],
 "metadata": {
  "kernelspec": {
   "display_name": "base",
   "language": "python",
   "name": "python3"
  },
  "language_info": {
   "codemirror_mode": {
    "name": "ipython",
    "version": 3
   },
   "file_extension": ".py",
   "mimetype": "text/x-python",
   "name": "python",
   "nbconvert_exporter": "python",
   "pygments_lexer": "ipython3",
   "version": "3.11.4"
  },
  "orig_nbformat": 4
 },
 "nbformat": 4,
 "nbformat_minor": 2
}
