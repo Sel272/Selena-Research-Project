{
 "cells": [
  {
   "cell_type": "code",
   "execution_count": 2,
   "metadata": {},
   "outputs": [],
   "source": [
    "import numpy as np \n",
    "import seaborn as sns\n",
    "import pandas as pd\n",
    "import matplotlib.pyplot as plt\n",
    "import scipy\n",
    "import sklearn "
   ]
  },
  {
   "cell_type": "code",
   "execution_count": 27,
   "metadata": {},
   "outputs": [],
   "source": [
    "def merit(x,y,correlation=\"pearson\"):\n",
    "    # x=matrix of features \n",
    "    # y=matrix (or vector) of targets \n",
    "    # correlation=\"pearson\" or \"spearman\"\n",
    "    r_xx=0\n",
    "    r_xy=0\n",
    "    for i in range(x.shape[1]):\n",
    "        for v in range(i+1,x.shape[1]):\n",
    "            xi = x.iloc[:,i]\n",
    "            xv = x.iloc[:,v]\n",
    "            if correlation==\"pearson\": \n",
    "                correlation_coefficient, p_value = scipy.stats.pearsonr(xi,xv)\n",
    "                r_xx += correlation_coefficient\n",
    "            if correlation==\"spearman\": \n",
    "                correlation_coefficient, p_value = scipy.stats.spearmanr(xi,xv)\n",
    "                r_xx += correlation_coefficient\n",
    "\n",
    "    for i in range(x.shape[1]):\n",
    "        xi = x.iloc[:,i]\n",
    "        yi = y.iloc[:,0]\n",
    "        if correlation==\"pearson\": \n",
    "            correlation_coefficient, p_value = scipy.stats.pearsonr(xi,yi)\n",
    "            r_xy += correlation_coefficient\n",
    "        if correlation==\"spearman\": \n",
    "            correlation_coefficient, p_value = scipy.stats.spearmanr(xi,yi)\n",
    "            r_xy += correlation_coefficient\n",
    "            \n",
    "    k = x.shape[1]\n",
    "    if k == 1:\n",
    "        r_xx_avg =0\n",
    "        r_xy_avg = r_xy/(k)\n",
    "    else:\n",
    "        r_xx_avg = r_xx/((k-1)*k/2)\n",
    "        r_xy_avg = r_xy/(k)\n",
    "\n",
    "    return (k*np.absolute(r_xy_avg)/(np.sqrt(k+k*(k-1)*np.absolute(r_xx_avg))))"
   ]
  },
  {
   "cell_type": "code",
   "execution_count": 10,
   "metadata": {},
   "outputs": [
    {
     "data": {
      "text/html": [
       "<div>\n",
       "<style scoped>\n",
       "    .dataframe tbody tr th:only-of-type {\n",
       "        vertical-align: middle;\n",
       "    }\n",
       "\n",
       "    .dataframe tbody tr th {\n",
       "        vertical-align: top;\n",
       "    }\n",
       "\n",
       "    .dataframe thead th {\n",
       "        text-align: right;\n",
       "    }\n",
       "</style>\n",
       "<table border=\"1\" class=\"dataframe\">\n",
       "  <thead>\n",
       "    <tr style=\"text-align: right;\">\n",
       "      <th></th>\n",
       "      <th>age</th>\n",
       "      <th>gender</th>\n",
       "      <th>height</th>\n",
       "      <th>weight</th>\n",
       "      <th>ap_hi</th>\n",
       "      <th>ap_lo</th>\n",
       "      <th>cholesterol</th>\n",
       "      <th>gluc</th>\n",
       "      <th>smoke</th>\n",
       "      <th>alco</th>\n",
       "      <th>active</th>\n",
       "      <th>cardio</th>\n",
       "      <th>bmi</th>\n",
       "    </tr>\n",
       "  </thead>\n",
       "  <tbody>\n",
       "    <tr>\n",
       "      <th>0</th>\n",
       "      <td>50</td>\n",
       "      <td>2</td>\n",
       "      <td>168</td>\n",
       "      <td>62</td>\n",
       "      <td>110</td>\n",
       "      <td>80</td>\n",
       "      <td>1</td>\n",
       "      <td>1</td>\n",
       "      <td>0</td>\n",
       "      <td>0</td>\n",
       "      <td>1</td>\n",
       "      <td>0</td>\n",
       "      <td>21.97</td>\n",
       "    </tr>\n",
       "    <tr>\n",
       "      <th>1</th>\n",
       "      <td>55</td>\n",
       "      <td>1</td>\n",
       "      <td>156</td>\n",
       "      <td>85</td>\n",
       "      <td>140</td>\n",
       "      <td>90</td>\n",
       "      <td>3</td>\n",
       "      <td>1</td>\n",
       "      <td>0</td>\n",
       "      <td>0</td>\n",
       "      <td>1</td>\n",
       "      <td>1</td>\n",
       "      <td>34.93</td>\n",
       "    </tr>\n",
       "    <tr>\n",
       "      <th>2</th>\n",
       "      <td>52</td>\n",
       "      <td>1</td>\n",
       "      <td>165</td>\n",
       "      <td>64</td>\n",
       "      <td>130</td>\n",
       "      <td>70</td>\n",
       "      <td>3</td>\n",
       "      <td>1</td>\n",
       "      <td>0</td>\n",
       "      <td>0</td>\n",
       "      <td>0</td>\n",
       "      <td>1</td>\n",
       "      <td>23.51</td>\n",
       "    </tr>\n",
       "    <tr>\n",
       "      <th>3</th>\n",
       "      <td>48</td>\n",
       "      <td>2</td>\n",
       "      <td>169</td>\n",
       "      <td>82</td>\n",
       "      <td>150</td>\n",
       "      <td>100</td>\n",
       "      <td>1</td>\n",
       "      <td>1</td>\n",
       "      <td>0</td>\n",
       "      <td>0</td>\n",
       "      <td>1</td>\n",
       "      <td>1</td>\n",
       "      <td>28.71</td>\n",
       "    </tr>\n",
       "    <tr>\n",
       "      <th>4</th>\n",
       "      <td>48</td>\n",
       "      <td>1</td>\n",
       "      <td>156</td>\n",
       "      <td>56</td>\n",
       "      <td>100</td>\n",
       "      <td>60</td>\n",
       "      <td>1</td>\n",
       "      <td>1</td>\n",
       "      <td>0</td>\n",
       "      <td>0</td>\n",
       "      <td>0</td>\n",
       "      <td>0</td>\n",
       "      <td>23.01</td>\n",
       "    </tr>\n",
       "  </tbody>\n",
       "</table>\n",
       "</div>"
      ],
      "text/plain": [
       "   age  gender  height  weight  ap_hi  ap_lo  cholesterol  gluc  smoke  alco  \\\n",
       "0   50       2     168      62    110     80            1     1      0     0   \n",
       "1   55       1     156      85    140     90            3     1      0     0   \n",
       "2   52       1     165      64    130     70            3     1      0     0   \n",
       "3   48       2     169      82    150    100            1     1      0     0   \n",
       "4   48       1     156      56    100     60            1     1      0     0   \n",
       "\n",
       "   active  cardio    bmi  \n",
       "0       1       0  21.97  \n",
       "1       1       1  34.93  \n",
       "2       0       1  23.51  \n",
       "3       1       1  28.71  \n",
       "4       0       0  23.01  "
      ]
     },
     "execution_count": 10,
     "metadata": {},
     "output_type": "execute_result"
    }
   ],
   "source": [
    "cardio = pd.read_csv(\"../Data/01-modified-data/cardiovascular_numeric_final.csv\")\n",
    "\n",
    "cardio = cardio.drop(columns=['Unnamed: 0', 'id'])\n",
    "cardio.head()"
   ]
  },
  {
   "cell_type": "code",
   "execution_count": 38,
   "metadata": {},
   "outputs": [],
   "source": [
    "import itertools\n",
    "\n",
    "def maximize_CFS(x,y):\n",
    "    list1 = [*range(1,x.shape[1]+1)]; #print(list1)\n",
    "    m = float('-inf')\n",
    "    for L in range(1,len(list1)):\n",
    "        for subset in itertools.combinations(list1, L):\n",
    "            subset_l = list(subset)\n",
    "            subset_l = [x - 1 for x in subset_l]\n",
    "            x_subset = x.iloc[:,subset_l]\n",
    "            m_temp = merit(x_subset,y,correlation=\"spearman\")\n",
    "            if m_temp > m:\n",
    "                print(\"found new max: \", m_temp)\n",
    "                print(\"optimal features = \", subset_l)\n",
    "                m= m_temp\n",
    "                opt_set = x_subset\n",
    "\n",
    "    return opt_set\n",
    "\n",
    "def maximize_CFS_2(x,y):\n",
    "    list1 = [*range(1,x.shape[1]+1)]; #print(list1)\n",
    "    m = float('-inf')\n",
    "    for L in range(1,len(list1)):\n",
    "        for subset in itertools.combinations(list1, L):\n",
    "            subset_l = list(subset)\n",
    "            subset_l = [x - 1 for x in subset_l]\n",
    "            x_subset = x.iloc[:,subset_l]\n",
    "            m_temp = merit(x_subset,y,correlation=\"spearman\")\n",
    "            if m_temp > m:\n",
    "                print(\"found new max: \", m_temp)\n",
    "                subset_l_print = [x + 6 for x in subset_l]\n",
    "                print(\"optimal features = \", subset_l_print)\n",
    "                m= m_temp\n",
    "                opt_set = x_subset\n",
    "\n",
    "    return opt_set"
   ]
  },
  {
   "cell_type": "code",
   "execution_count": 23,
   "metadata": {},
   "outputs": [],
   "source": [
    "def explore_data(x,y):\n",
    "\n",
    "    #PRINT SHAPE\n",
    "    print(x.shape)\n",
    "    print(y.shape)\n",
    "\n",
    "    #COMPUTE MERIT \n",
    "    # print(\"merit =\",merit(x,y,correlation=\"spearman\")); \n",
    "    print(\"merit =\",merit(x,y,correlation=\"spearman\"))\n",
    "\n",
    "    # #PLOT\n",
    "    # if (iplot):\n",
    "    #     sns.pairplot(pd.DataFrame(np.hstack((x,y.reshape(y.shape[0],1)))))\n",
    "    #     plt.show()"
   ]
  },
  {
   "cell_type": "code",
   "execution_count": 31,
   "metadata": {},
   "outputs": [],
   "source": [
    "cardio_x = cardio.drop(columns=['cardio'])\n",
    "cardio_x_1 = cardio_x.iloc[:,0:6]\n",
    "cardio_x_2 = cardio_x.iloc[:,6:12]\n",
    "cardio_y = cardio[['cardio']]"
   ]
  },
  {
   "cell_type": "code",
   "execution_count": 28,
   "metadata": {},
   "outputs": [
    {
     "name": "stdout",
     "output_type": "stream",
     "text": [
      "(64806, 12)\n",
      "(64806, 1)\n",
      "merit = 0.3148619450034282\n"
     ]
    }
   ],
   "source": [
    "explore_data(cardio_x,cardio_y)"
   ]
  },
  {
   "cell_type": "code",
   "execution_count": 33,
   "metadata": {},
   "outputs": [
    {
     "name": "stdout",
     "output_type": "stream",
     "text": [
      "found new max:  0.24118366917520198\n",
      "optimal features =  [0]\n",
      "found new max:  0.44305965281952503\n",
      "optimal features =  [4]\n",
      "found new max:  0.4496408170195329\n",
      "optimal features =  [0, 4, 5]\n"
     ]
    }
   ],
   "source": [
    "x_opt_1=maximize_CFS(cardio_x_1,cardio_y) #using merit find the most revelent columns (1st 6)"
   ]
  },
  {
   "cell_type": "code",
   "execution_count": 39,
   "metadata": {},
   "outputs": [
    {
     "name": "stdout",
     "output_type": "stream",
     "text": [
      "found new max:  0.2107372715369121\n",
      "optimal features =  [6]\n",
      "found new max:  0.2586790918689096\n",
      "optimal features =  [6, 11]\n"
     ]
    }
   ],
   "source": [
    "x_opt_2=maximize_CFS_2(cardio_x_2,cardio_y) #rest of (6)"
   ]
  },
  {
   "cell_type": "code",
   "execution_count": 40,
   "metadata": {},
   "outputs": [
    {
     "name": "stdout",
     "output_type": "stream",
     "text": [
      "(64806, 5)\n",
      "(64806, 1)\n",
      "merit = 0.4562044278371533\n"
     ]
    }
   ],
   "source": [
    "cardio_x_new = cardio_x.iloc[:,[0,4,5,6,11]] #best subset\n",
    "explore_data(cardio_x_new,cardio_y)"
   ]
  },
  {
   "cell_type": "code",
   "execution_count": 41,
   "metadata": {},
   "outputs": [],
   "source": [
    "from sklearn import metrics\n",
    "from sklearn.naive_bayes import MultinomialNB\n",
    "from sklearn.model_selection import train_test_split\n",
    "from sklearn.metrics import accuracy_score"
   ]
  },
  {
   "cell_type": "code",
   "execution_count": 47,
   "metadata": {},
   "outputs": [
    {
     "name": "stderr",
     "output_type": "stream",
     "text": [
      "/Users/xueningyang/Library/Python/3.9/lib/python/site-packages/sklearn/utils/validation.py:1183: DataConversionWarning: A column-vector y was passed when a 1d array was expected. Please change the shape of y to (n_samples, ), for example using ravel().\n",
      "  y = column_or_1d(y, warn=True)\n"
     ]
    }
   ],
   "source": [
    "X_train, X_test, y_train, y_test = train_test_split(cardio_x_new, cardio_y, test_size=0.2, random_state=20)\n",
    "nb_classifier = MultinomialNB()\n",
    "nb_classifier.fit(X_train,y_train)\n",
    "y_pred_test = nb_classifier.predict(X_test)\n",
    "y_pred_train = nb_classifier.predict(X_train)"
   ]
  },
  {
   "cell_type": "code",
   "execution_count": 48,
   "metadata": {},
   "outputs": [],
   "source": [
    "def get_metrics(true, preds):\n",
    "    \"\"\"\n",
    "    Takes gold labels and predictions to compute performance metrics\n",
    "    :param true: array-like object\n",
    "    :param preds: array-like object\n",
    "    :return: a tuple of various performance metrics\n",
    "    \"\"\"\n",
    "    accuracy = metrics.accuracy_score(true['cardio'],preds)\n",
    "    f1_score = metrics.f1_score(true['cardio'],preds)\n",
    "    conf_matrix = metrics.confusion_matrix(true['cardio'],preds)\n",
    "\n",
    "    return accuracy, f1_score, conf_matrix"
   ]
  },
  {
   "cell_type": "code",
   "execution_count": 50,
   "metadata": {},
   "outputs": [],
   "source": [
    "def plot_confusion_matrix(conf_matrix_data, labels, data=\"train\"):\n",
    "    \"\"\"\n",
    "    Takes as input confusion matrix data from get_metrics() and prints out a\n",
    "    confusion matrix\n",
    "    :param conf_matrix_data:\n",
    "    :return: None\n",
    "    \"\"\"\n",
    "    if data == \"train\":\n",
    "        plt.title(\"Training Confusion Matrix\")\n",
    "    else:\n",
    "        plt.title(\"Test Confusion Matrix\")\n",
    "    axis = sns.heatmap(conf_matrix_data,annot=True,fmt=\"d\")\n",
    "    axis.set_xticklabels(labels)\n",
    "    axis.set_yticklabels(labels)\n",
    "    axis.set_xlabel(\"predicted\")\n",
    "    axis.set_ylabel(\"true\")\n",
    "    plt.show()\n",
    "    return"
   ]
  },
  {
   "cell_type": "code",
   "execution_count": 51,
   "metadata": {},
   "outputs": [
    {
     "name": "stdout",
     "output_type": "stream",
     "text": [
      "Training Accuracy: 0.6054123910192115\n",
      "Test Accuracy: 0.598518747106928\n",
      "Training F1 Score: 0.5276719540070651\n",
      "Test F1 Score: 0.5287085672885347\n"
     ]
    }
   ],
   "source": [
    "acc_train, f1_train, conf_train = get_metrics(y_train, y_pred_train)\n",
    "acc_test, f1_test, conf_test = get_metrics(y_test, y_pred_test)\n",
    "print(\"Training Accuracy:\", acc_train)\n",
    "print(\"Test Accuracy:\", acc_test)\n",
    "print(\"Training F1 Score:\", f1_train)\n",
    "print(\"Test F1 Score:\", f1_test)"
   ]
  },
  {
   "cell_type": "code",
   "execution_count": 52,
   "metadata": {},
   "outputs": [
    {
     "data": {
      "image/png": "[encoded data removed]",
      "text/plain": [
       "<Figure size 640x480 with 2 Axes>"
      ]
     },
     "metadata": {},
     "output_type": "display_data"
    }
   ],
   "source": [
    "plot_confusion_matrix(conf_train, [0, 1],data=\"train\")"
   ]
  },
  {
   "cell_type": "code",
   "execution_count": 53,
   "metadata": {},
   "outputs": [
    {
     "data": {
      "image/png": "[encoded data removed]",
      "text/plain": [
       "<Figure size 640x480 with 2 Axes>"
      ]
     },
     "metadata": {},
     "output_type": "display_data"
    }
   ],
   "source": [
    "plot_confusion_matrix(conf_test, [0, 1],data=\"test\")"
   ]
  }
 ],
 "metadata": {
  "kernelspec": {
   "display_name": "Python 3",
   "language": "python",
   "name": "python3"
  },
  "language_info": {
   "codemirror_mode": {
    "name": "ipython",
    "version": 3
   },
   "file_extension": ".py",
   "mimetype": "text/x-python",
   "name": "python",
   "nbconvert_exporter": "python",
   "pygments_lexer": "ipython3",
   "version": "3.9.6"
  }
 },
 "nbformat": 4,
 "nbformat_minor": 2
}
